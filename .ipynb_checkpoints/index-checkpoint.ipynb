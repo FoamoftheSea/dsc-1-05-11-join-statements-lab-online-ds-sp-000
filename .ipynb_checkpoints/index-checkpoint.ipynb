{
 "cells": [
  {
   "cell_type": "markdown",
   "metadata": {},
   "source": [
    "# Join Statements - Lab\n",
    "\n",
    "## Introduction\n",
    "\n",
    "In this lab, you'll practice your knowledge on Join statements.\n",
    "\n",
    "## Objectives\n",
    "\n",
    "You will be able to:\n",
    "- Write queries that make use of various types of Joins\n",
    "- Join tables using foreign keys"
   ]
  },
  {
   "cell_type": "markdown",
   "metadata": {},
   "source": [
    "## CRM Schema\n",
    "\n",
    "In almost all cases, rather then just working with a single table we will typically need data from multiple tables. \n",
    "Doing this requires the use of **joins ** using shared columns from the two tables. \n",
    "\n",
    "In this lab, we'll use the same Customer Relationship Management (CRM) database we used in our lecture before!\n",
    "<img src='Database-Schema.png' width=550>"
   ]
  },
  {
   "cell_type": "markdown",
   "metadata": {},
   "source": [
    "## Connecting to the Database\n",
    "Import the necessary packages and connect to the database **data.sqlite**."
   ]
  },
  {
   "cell_type": "code",
   "execution_count": 1,
   "metadata": {},
   "outputs": [],
   "source": [
    "import sqlite3\n",
    "conn = sqlite3.connect('data.sqlite')\n",
    "cur = conn.cursor()"
   ]
  },
  {
   "cell_type": "markdown",
   "metadata": {},
   "source": [
    "## Display the names of all the employees in Boston."
   ]
  },
  {
   "cell_type": "code",
   "execution_count": 5,
   "metadata": {},
   "outputs": [],
   "source": [
    "import pandas as pd"
   ]
  },
  {
   "cell_type": "code",
   "execution_count": 21,
   "metadata": {},
   "outputs": [
    {
     "data": {
      "text/plain": [
       "[('Julie', 'Firrelli'), ('Steve', 'Patterson')]"
      ]
     },
     "execution_count": 21,
     "metadata": {},
     "output_type": "execute_result"
    }
   ],
   "source": [
    "cur.execute('''SELECT firstName, lastName FROM employees\n",
    "                                JOIN offices\n",
    "                                USING(officeCode)\n",
    "                                WHERE city = \"Boston\"''').fetchall()"
   ]
  },
  {
   "cell_type": "markdown",
   "metadata": {},
   "source": [
    "## Do any offices have no employees?"
   ]
  },
  {
   "cell_type": "code",
   "execution_count": 37,
   "metadata": {},
   "outputs": [
    {
     "name": "stdout",
     "output_type": "stream",
     "text": [
      "23\n"
     ]
    },
    {
     "data": {
      "text/plain": [
       "[('Boston', 2),\n",
       " ('London', 2),\n",
       " ('NYC', 2),\n",
       " ('Paris', 5),\n",
       " ('San Francisco', 6),\n",
       " ('Sydney', 4),\n",
       " ('Tokyo', 2)]"
      ]
     },
     "execution_count": 37,
     "metadata": {},
     "output_type": "execute_result"
    }
   ],
   "source": [
    "#cur.execute('''SELECT officeCode FROM employees;''')\n",
    "#df1 = pd.DataFrame(cur.fetchall())\n",
    "#df1.columns = [i[0] for i in cur.description]\n",
    "#cur.execute('''SELECT officeCode From offices;''')\n",
    "#df2 = pd.DataFrame(cur.fetchall())\n",
    "#df2.columns = [i[0] for i in cur.description]\n",
    "#print(df1.officeCode.nunique())\n",
    "#print(df2.officeCode.nunique())\n",
    "#print(\"There are no offices without employees\")\n",
    "print(len(cur.execute('''SELECT employeeNumber FROM employees;''').fetchall()))\n",
    "cur.execute('''SELECT city, count(*) FROM offices \n",
    "                                    LEFT JOIN employees\n",
    "                                    USING(officeCode)\n",
    "                                    GROUP BY 1;''').fetchall()"
   ]
  },
  {
   "cell_type": "code",
   "execution_count": null,
   "metadata": {},
   "outputs": [],
   "source": [
    "# There are no offices without employees"
   ]
  },
  {
   "cell_type": "markdown",
   "metadata": {},
   "source": [
    "## Write 3 Questions of your own and answer them"
   ]
  },
  {
   "cell_type": "code",
   "execution_count": 91,
   "metadata": {},
   "outputs": [
    {
     "name": "stdout",
     "output_type": "stream",
     "text": [
      "The minimum number of orders from any customer is 3\n"
     ]
    }
   ],
   "source": [
    "# How many customers have never made an order?\n",
    "df_customers = pd.DataFrame(cur.execute('''SELECT customerNumber from customers;'''))\n",
    "#print(len(df_customers))\n",
    "#print(df_customers.head())\n",
    "cur.execute('''SELECT customerNumber, count(*) FROM customers\n",
    "                                            LEFT JOIN orders\n",
    "                                            using(customerNumber)\n",
    "                                            GROUP BY 1\n",
    "                                            LIMIT 5;''')\n",
    "df_orderCounts = pd.DataFrame(cur.fetchall())\n",
    "df_orderCounts.columns = [i[0] for i in cur.description]\n",
    "df_orderCounts.sort_values(['count(*)'], inplace=True)\n",
    "\n",
    "print(f\"The minimum number of orders from any customer is {df_orderCounts['count(*)'].min()}\")"
   ]
  },
  {
   "cell_type": "code",
   "execution_count": 90,
   "metadata": {},
   "outputs": [
    {
     "name": "stdout",
     "output_type": "stream",
     "text": [
      "Largest payment was $9977.85, paid by FunGiftIdeas.com.\n"
     ]
    }
   ],
   "source": [
    "# What is the name of the customer who paid the highest amount at any time?\n",
    "customer_id = (cur.execute('''SELECT customerNumber, MAX(amount) FROM payments;''').fetchall())\n",
    "customer = (cur.execute(f'''SELECT customerName \n",
    "                            FROM customers \n",
    "                            WHERE customerNumber = \"{customer_id[0][0]}\"''').fetchall())\n",
    "print(f\"Largest payment was ${customer_id[0][1]}, paid by {customer[0][0]}.\")"
   ]
  },
  {
   "cell_type": "code",
   "execution_count": 92,
   "metadata": {},
   "outputs": [
    {
     "data": {
      "text/plain": [
       "[('', 201),\n",
       " ('BC', 4),\n",
       " ('CA', 45),\n",
       " ('CT', 9),\n",
       " ('Co. Cork', 1),\n",
       " ('Isle of Wight', 2),\n",
       " ('MA', 23),\n",
       " ('NH', 3),\n",
       " ('NJ', 3),\n",
       " ('NSW', 8),\n",
       " ('NV', 3),\n",
       " ('NY', 18),\n",
       " ('Osaka', 2),\n",
       " ('PA', 9),\n",
       " ('Pretoria', 1),\n",
       " ('Queensland', 3),\n",
       " ('Québec', 3),\n",
       " ('Tokyo', 4),\n",
       " ('Victoria', 8)]"
      ]
     },
     "execution_count": 92,
     "metadata": {},
     "output_type": "execute_result"
    }
   ],
   "source": [
    "# How many orders have shipped by state?\n",
    "cur.execute('''SELECT state, count(*) FROM customers \n",
    "                                    LEFT JOIN orders \n",
    "                                    USING(customerNumber)\n",
    "                                    GROUP BY 1;''').fetchall()"
   ]
  },
  {
   "cell_type": "code",
   "execution_count": 94,
   "metadata": {},
   "outputs": [
    {
     "data": {
      "text/plain": [
       "[('Classic Cars', 38),\n",
       " ('Motorcycles', 13),\n",
       " ('Planes', 12),\n",
       " ('Ships', 9),\n",
       " ('Trains', 3),\n",
       " ('Trucks and Buses', 11),\n",
       " ('Vintage Cars', 24)]"
      ]
     },
     "execution_count": 94,
     "metadata": {},
     "output_type": "execute_result"
    }
   ],
   "source": [
    "# How many products belong to each product line\n",
    "cur.execute('''SELECT productLine, count(*) FROM productlines\n",
    "                                            LEFT JOIN products\n",
    "                                            USING(productLine)\n",
    "                                            GROUP BY 1;''').fetchall()"
   ]
  },
  {
   "cell_type": "markdown",
   "metadata": {},
   "source": [
    "## Level Up: Display the names of each product each employee has sold."
   ]
  },
  {
   "cell_type": "code",
   "execution_count": 121,
   "metadata": {},
   "outputs": [
    {
     "name": "stdout",
     "output_type": "stream",
     "text": [
      "2996\n",
      "['1996 Moto Guzzi 1100i', '2003 Harley-Davidson Eagle Drag Bike', 'P-51-D Mustang', '1936 Harley Davidson El Knucklehead', '1997 BMW R 1100 S', '1928 British Royal Navy Airplane', '1960 BSA Gold Star DBD34', '1900s Vintage Tri-Plane', '1997 BMW F650 ST', '1928 Ford Phaeton Deluxe', '1930 Buick Marquette Phaeton', 'American Airlines: B767-300', 'America West Airlines B757-200', 'ATA: B757-300', 'F/A 18 Hornet 1/72', '1937 Lincoln Berline', '1928 Mercedes-Benz SSK', '1969 Harley Davidson Ultimate Chopper', '1996 Moto Guzzi 1100i', '2003 Harley-Davidson Eagle Drag Bike', 'P-51-D Mustang', '1936 Harley Davidson El Knucklehead', '1997 BMW R 1100 S', '1928 British Royal Navy Airplane', '1960 BSA Gold Star DBD34', '1900s Vintage Tri-Plane', '1997 BMW F650 ST', '1928 Ford Phaeton Deluxe', '1930 Buick Marquette Phaeton', 'American Airlines: B767-300', 'ATA: B757-300', 'F/A 18 Hornet 1/72', '1993 Mazda RX-7', '1948 Porsche 356-A Roadster', '1995 Honda Civic', '1992 Ferrari 360 Spider red', '1969 Dodge Super Bee', '1976 Ford Gran Torino', '1957 Vespa GS150', '1957 Corvette Convertible', '1982 Lamborghini Diablo', '1971 Alpine Renault 1600s', '1956 Porsche 356A Coupe', '1952 Alpine Renault 1300', '1962 LanciaA Delta 16V', '1958 Setra Bus', '1940 Ford Pickup Truck', '1936 Mercedes-Benz 500K Special Roadster', '1926 Ford Fire Engine', '1928 Mercedes-Benz SSK', '1913 Ford Model T Speedster', '1934 Ford V8 Coupe', '18th Century Vintage Horse Carriage', '1917 Maxwell Touring Car', '1940s Ford truck', '1993 Mazda RX-7', '1965 Aston Martin DB5', '1995 Honda Civic', '1999 Indy 500 Monte Carlo SS', '1992 Ferrari 360 Spider red', '1948 Porsche Type 356 Roadster', '1932 Alfa Romeo 8C2300 Spider Sport', '1957 Ford Thunderbird', '1970 Chevy Chevelle SS 454', '1966 Shelby Cobra 427 S/C', '1949 Jaguar XK 120', '1952 Citroen-15CV', '1969 Chevrolet Camaro Z28', '2002 Chevy Corvette', '1968 Ford Mustang', '2002 Suzuki XREO', '1970 Plymouth Hemi Cuda', '1969 Dodge Super Bee', '1976 Ford Gran Torino', '1957 Vespa GS150', '1957 Corvette Convertible', '1982 Ducati 900 Monster', '1971 Alpine Renault 1600s', '1961 Chevrolet Impala', '1982 Ducati 996 R', '1974 Ducati 350 Mk3 Desmo', '2002 Yamaha YZR M1', '1962 LanciaA Delta 16V', '1958 Setra Bus', '1940 Ford Pickup Truck', '1964 Mercedes Tour Bus', '1926 Ford Fire Engine', '1992 Ferrari 360 Spider red', '1940s Ford truck', '1939 Cadillac Limousine', '1996 Peterbilt 379 Stake Bed with Outrigger', '1952 Alpine Renault 1300', '1962 LanciaA Delta 16V', '1958 Setra Bus', '1940 Ford Pickup Truck', '1937 Lincoln Berline', '1936 Mercedes-Benz 500K Special Roadster', '1926 Ford Fire Engine', '1913 Ford Model T Speedster', '1939 Chevrolet Deluxe Coupe', '1938 Cadillac V-16 Presidential Limousine', '1937 Lincoln Berline', '1936 Mercedes-Benz 500K Special Roadster', '1928 Mercedes-Benz SSK', '1913 Ford Model T Speedster', '1934 Ford V8 Coupe', '18th Century Vintage Horse Carriage', '1917 Maxwell Touring Car', '1936 Chrysler Airflow', '1952 Alpine Renault 1300', '1962 LanciaA Delta 16V', '1958 Setra Bus', '1940 Ford Pickup Truck', '1913 Ford Model T Speedster', '18th Century Vintage Horse Carriage', '1940s Ford truck', '1939 Cadillac Limousine', '1980’s GM Manhattan Express', '1996 Peterbilt 379 Stake Bed with Outrigger', '1982 Camaro Z28', '1969 Harley Davidson Ultimate Chopper', '1996 Moto Guzzi 1100i', '1937 Horch 930V Limousine', 'Corsair F4U ( Bird Cage)', '1900s Vintage Tri-Plane', '1928 Ford Phaeton Deluxe', '1930 Buick Marquette Phaeton', 'American Airlines: B767-300', 'HMS Bounty', 'America West Airlines B757-200', 'ATA: B757-300', 'F/A 18 Hornet 1/72', 'American Airlines: MD-11S', 'Boeing X-32A JSF', '1917 Grand Touring Sedan', '1911 Ford Town Car', '1932 Model A Ford J-Coupe', '1932 Alfa Romeo 8C2300 Spider Sport', '1957 Ford Thunderbird', '1970 Chevy Chevelle SS 454', '1966 Shelby Cobra 427 S/C', '1939 Chevrolet Deluxe Coupe', '1949 Jaguar XK 120', '1952 Citroen-15CV', '1969 Chevrolet Camaro Z28', '2002 Chevy Corvette', '1936 Mercedes Benz 500k Roadster', '1970 Triumph Spitfire', '1970 Dodge Coronet', '1992 Porsche Cayenne Turbo Silver', \"1950's Chicago Surface Lines Streetcar\", '1952 Alpine Renault 1300', '1958 Setra Bus', '1940 Ford Pickup Truck', '1913 Ford Model T Speedster', '1939 Cadillac Limousine', '1996 Moto Guzzi 1100i', '2003 Harley-Davidson Eagle Drag Bike', 'P-51-D Mustang', '1936 Harley Davidson El Knucklehead', '1997 BMW R 1100 S', '1928 British Royal Navy Airplane', '1937 Lincoln Berline', '1936 Mercedes-Benz 500K Special Roadster', '1917 Grand Touring Sedan', '1911 Ford Town Car', '1932 Model A Ford J-Coupe', '1928 Mercedes-Benz SSK', '1913 Ford Model T Speedster', '1934 Ford V8 Coupe', '18th Century Vintage Horse Carriage', '1917 Maxwell Touring Car', '1932 Alfa Romeo 8C2300 Spider Sport', '1957 Ford Thunderbird', '1939 Chevrolet Deluxe Coupe', '1938 Cadillac V-16 Presidential Limousine', '1936 Mercedes Benz 500k Roadster', '1936 Chrysler Airflow', '1969 Dodge Super Bee', '1976 Ford Gran Torino', '1941 Chevrolet Special Deluxe Cabriolet', '1900s Vintage Bi-Plane', '1937 Horch 930V Limousine', 'HMS Bounty', 'Boeing X-32A JSF']\n"
     ]
    },
    {
     "data": {
      "text/html": [
       "<div>\n",
       "<style scoped>\n",
       "    .dataframe tbody tr th:only-of-type {\n",
       "        vertical-align: middle;\n",
       "    }\n",
       "\n",
       "    .dataframe tbody tr th {\n",
       "        vertical-align: top;\n",
       "    }\n",
       "\n",
       "    .dataframe thead th {\n",
       "        text-align: right;\n",
       "    }\n",
       "</style>\n",
       "<table border=\"1\" class=\"dataframe\">\n",
       "  <thead>\n",
       "    <tr style=\"text-align: right;\">\n",
       "      <th></th>\n",
       "      <th>2</th>\n",
       "    </tr>\n",
       "    <tr>\n",
       "      <th>name</th>\n",
       "      <th></th>\n",
       "    </tr>\n",
       "  </thead>\n",
       "  <tbody>\n",
       "    <tr>\n",
       "      <th>Andy Fixter</th>\n",
       "      <td>82</td>\n",
       "    </tr>\n",
       "    <tr>\n",
       "      <th>Barry Jones</th>\n",
       "      <td>98</td>\n",
       "    </tr>\n",
       "    <tr>\n",
       "      <th>Foon Yue Tseng</th>\n",
       "      <td>74</td>\n",
       "    </tr>\n",
       "    <tr>\n",
       "      <th>George Vanauf</th>\n",
       "      <td>96</td>\n",
       "    </tr>\n",
       "    <tr>\n",
       "      <th>Gerard Hernandez</th>\n",
       "      <td>109</td>\n",
       "    </tr>\n",
       "  </tbody>\n",
       "</table>\n",
       "</div>"
      ],
      "text/plain": [
       "                    2\n",
       "name                 \n",
       "Andy Fixter        82\n",
       "Barry Jones        98\n",
       "Foon Yue Tseng     74\n",
       "George Vanauf      96\n",
       "Gerard Hernandez  109"
      ]
     },
     "execution_count": 121,
     "metadata": {},
     "output_type": "execute_result"
    }
   ],
   "source": [
    "cur.execute('''SELECT firstName, lastName, productName\n",
    "                    FROM employees e\n",
    "                    JOIN customers c\n",
    "                    ON e.employeeNumber = c.salesRepEmployeeNumber\n",
    "                    JOIN orders o\n",
    "                    using(customerNumber)\n",
    "                    JOIN orderdetails\n",
    "                    using(orderNumber)\n",
    "                    JOIN products\n",
    "                    using(productCode)''')\n",
    "df = pd.DataFrame(cur.fetchall())\n",
    "print(len(df))\n",
    "df['name'] = df[0] + ' ' + df[1]\n",
    "df = df.set_index('name').drop(columns=[0,1])\n",
    "grouped = df.groupby('name').aggregate(lambda x: list(x))\n",
    "[print(x) for x in grouped.loc['Andy Fixter']]\n"
   ]
  },
  {
   "cell_type": "markdown",
   "metadata": {},
   "source": [
    "## Level Up: Display the Number of Products each Employee Has sold"
   ]
  },
  {
   "cell_type": "code",
   "execution_count": 122,
   "metadata": {
    "scrolled": true
   },
   "outputs": [
    {
     "data": {
      "text/html": [
       "<div>\n",
       "<style scoped>\n",
       "    .dataframe tbody tr th:only-of-type {\n",
       "        vertical-align: middle;\n",
       "    }\n",
       "\n",
       "    .dataframe tbody tr th {\n",
       "        vertical-align: top;\n",
       "    }\n",
       "\n",
       "    .dataframe thead th {\n",
       "        text-align: right;\n",
       "    }\n",
       "</style>\n",
       "<table border=\"1\" class=\"dataframe\">\n",
       "  <thead>\n",
       "    <tr style=\"text-align: right;\">\n",
       "      <th></th>\n",
       "      <th>2</th>\n",
       "    </tr>\n",
       "    <tr>\n",
       "      <th>name</th>\n",
       "      <th></th>\n",
       "    </tr>\n",
       "  </thead>\n",
       "  <tbody>\n",
       "    <tr>\n",
       "      <th>Andy Fixter</th>\n",
       "      <td>82</td>\n",
       "    </tr>\n",
       "    <tr>\n",
       "      <th>Barry Jones</th>\n",
       "      <td>98</td>\n",
       "    </tr>\n",
       "    <tr>\n",
       "      <th>Foon Yue Tseng</th>\n",
       "      <td>74</td>\n",
       "    </tr>\n",
       "    <tr>\n",
       "      <th>George Vanauf</th>\n",
       "      <td>96</td>\n",
       "    </tr>\n",
       "    <tr>\n",
       "      <th>Gerard Hernandez</th>\n",
       "      <td>109</td>\n",
       "    </tr>\n",
       "  </tbody>\n",
       "</table>\n",
       "</div>"
      ],
      "text/plain": [
       "                    2\n",
       "name                 \n",
       "Andy Fixter        82\n",
       "Barry Jones        98\n",
       "Foon Yue Tseng     74\n",
       "George Vanauf      96\n",
       "Gerard Hernandez  109"
      ]
     },
     "execution_count": 122,
     "metadata": {},
     "output_type": "execute_result"
    }
   ],
   "source": [
    "# This is the number of products each emplyee has sold\n",
    "prod_per_employee = df.groupby('name').nunique()\n",
    "prod_per_employee.head()"
   ]
  },
  {
   "cell_type": "code",
   "execution_count": 124,
   "metadata": {},
   "outputs": [
    {
     "data": {
      "text/html": [
       "<div>\n",
       "<style scoped>\n",
       "    .dataframe tbody tr th:only-of-type {\n",
       "        vertical-align: middle;\n",
       "    }\n",
       "\n",
       "    .dataframe tbody tr th {\n",
       "        vertical-align: top;\n",
       "    }\n",
       "\n",
       "    .dataframe thead th {\n",
       "        text-align: right;\n",
       "    }\n",
       "</style>\n",
       "<table border=\"1\" class=\"dataframe\">\n",
       "  <thead>\n",
       "    <tr style=\"text-align: right;\">\n",
       "      <th></th>\n",
       "      <th>2</th>\n",
       "    </tr>\n",
       "    <tr>\n",
       "      <th>name</th>\n",
       "      <th></th>\n",
       "    </tr>\n",
       "  </thead>\n",
       "  <tbody>\n",
       "    <tr>\n",
       "      <th>Andy Fixter</th>\n",
       "      <td>185</td>\n",
       "    </tr>\n",
       "    <tr>\n",
       "      <th>Barry Jones</th>\n",
       "      <td>220</td>\n",
       "    </tr>\n",
       "    <tr>\n",
       "      <th>Foon Yue Tseng</th>\n",
       "      <td>142</td>\n",
       "    </tr>\n",
       "    <tr>\n",
       "      <th>George Vanauf</th>\n",
       "      <td>211</td>\n",
       "    </tr>\n",
       "    <tr>\n",
       "      <th>Gerard Hernandez</th>\n",
       "      <td>396</td>\n",
       "    </tr>\n",
       "  </tbody>\n",
       "</table>\n",
       "</div>"
      ],
      "text/plain": [
       "                    2\n",
       "name                 \n",
       "Andy Fixter       185\n",
       "Barry Jones       220\n",
       "Foon Yue Tseng    142\n",
       "George Vanauf     211\n",
       "Gerard Hernandez  396"
      ]
     },
     "execution_count": 124,
     "metadata": {},
     "output_type": "execute_result"
    }
   ],
   "source": [
    "# This is the total number of items sold by employee, but probably not even that because there was\n",
    "# a 'quantityOrdered' column that has not been factored, so really this number is meaningless\n",
    "sales_per_employee = df.groupby('name').count()\n",
    "sales_per_employee.head()"
   ]
  },
  {
   "cell_type": "markdown",
   "metadata": {},
   "source": [
    "## Summary"
   ]
  },
  {
   "cell_type": "markdown",
   "metadata": {},
   "source": [
    "Congrats! You now know how to use Join statements, along with leveraging your foreign keys knowledge!"
   ]
  }
 ],
 "metadata": {
  "kernelspec": {
   "display_name": "Python 3",
   "language": "python",
   "name": "python3"
  },
  "language_info": {
   "codemirror_mode": {
    "name": "ipython",
    "version": 3
   },
   "file_extension": ".py",
   "mimetype": "text/x-python",
   "name": "python",
   "nbconvert_exporter": "python",
   "pygments_lexer": "ipython3",
   "version": "3.7.3"
  }
 },
 "nbformat": 4,
 "nbformat_minor": 2
}
